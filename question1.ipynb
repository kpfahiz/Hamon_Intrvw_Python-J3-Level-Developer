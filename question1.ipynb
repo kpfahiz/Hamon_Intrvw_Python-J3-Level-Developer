{
 "cells": [
  {
   "cell_type": "markdown",
   "metadata": {},
   "source": [
    "# Question 1\n",
    "These are two ways of reading the contents of a file.\n",
    "\n",
    "Approach 1"
   ]
  },
  {
   "cell_type": "code",
   "execution_count": 1,
   "metadata": {},
   "outputs": [],
   "source": [
    "import os.path\n",
    "def get_contents(fname):\n",
    " if os.path.exists(fname):\n",
    "        f = open(fname).read()\n",
    "        return f\n",
    " else:\n",
    "        return None"
   ]
  },
  {
   "cell_type": "markdown",
   "metadata": {},
   "source": [
    "Approach 2"
   ]
  },
  {
   "cell_type": "code",
   "execution_count": null,
   "metadata": {},
   "outputs": [],
   "source": [
    "def get_contents(fname):\n",
    " try:\n",
    "       f = open(fname).read()\n",
    "       return f\n",
    " except FileNotFoundError:\n",
    "        return None"
   ]
  },
  {
   "cell_type": "markdown",
   "metadata": {},
   "source": [
    "Include, in your cover letter, the following\n",
    "Which approach you think is better and why. Please make it a detailed answer that exhibits your way of thinking.\n",
    "Suggest improvements to the code above"
   ]
  },
  {
   "cell_type": "markdown",
   "metadata": {},
   "source": [
    "# Answer"
   ]
  },
  {
   "cell_type": "code",
   "execution_count": null,
   "metadata": {},
   "outputs": [],
   "source": [
    "def get_contents(fname):\n",
    " try:\n",
    "       f = open(fname).read()\n",
    "       return f\n",
    " except FileNotFoundError:\n",
    "        return None"
   ]
  },
  {
   "cell_type": "markdown",
   "metadata": {},
   "source": [
    "This method involves directly opening and reading the file within a try block, capturing a `FileNotFoundError` if the file is missing. This technique is more efficient and reliable, as it addresses situations where the file might be deleted or become inaccessible between the verification and the attempt to open it. Consequently, it is a superior approach for real-world applications where the file system state may change unpredictably.\n",
    "\n"
   ]
  },
  {
   "cell_type": "markdown",
   "metadata": {},
   "source": [
    "# My Code"
   ]
  },
  {
   "cell_type": "code",
   "execution_count": 16,
   "metadata": {},
   "outputs": [
    {
     "name": "stdout",
     "output_type": "stream",
     "text": [
      "Reading.......\n",
      "Hello world\n"
     ]
    }
   ],
   "source": [
    "def get_contents(fname):\n",
    "    try:\n",
    "        with open(fname,'r') as f:\n",
    "            return f.read()\n",
    "    except FileNotFoundError as e:\n",
    "        raise e\n",
    "    except PermissionError as e:\n",
    "        raise e\n",
    "    finally:\n",
    "        print('Reading.......')\n",
    "\n",
    "f = get_contents('text.txt')\n",
    "print(f)"
   ]
  },
  {
   "cell_type": "markdown",
   "metadata": {},
   "source": [
    "# Explanation\n",
    "\n",
    " - `with open(fname,'r')` will open a file and makes sure to automatically close it after program execution leaves the context of the with statement. It also handles exceptions and makes sure to properly close the file even in case of an exception.\n",
    "\n",
    "- Explicitly specifying the read mode `r` makes the code more readable and ensures clarity of the file operation being performed.\n",
    "\n",
    "- We can use an `else statement` that runs if no exception occurs. I have not used it here.\n",
    "\n",
    "- `finally` statement that always runs, no matter if there was an exception or not."
   ]
  }
 ],
 "metadata": {
  "kernelspec": {
   "display_name": "env",
   "language": "python",
   "name": "python3"
  },
  "language_info": {
   "codemirror_mode": {
    "name": "ipython",
    "version": 3
   },
   "file_extension": ".py",
   "mimetype": "text/x-python",
   "name": "python",
   "nbconvert_exporter": "python",
   "pygments_lexer": "ipython3",
   "version": "3.8.10"
  }
 },
 "nbformat": 4,
 "nbformat_minor": 2
}
