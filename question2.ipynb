{
 "cells": [
  {
   "cell_type": "markdown",
   "metadata": {},
   "source": [
    "# Question 2"
   ]
  },
  {
   "cell_type": "code",
   "execution_count": 4,
   "metadata": {},
   "outputs": [],
   "source": [
    "def f(s):\n",
    " r = {}\n",
    " for i in s:\n",
    "     if i in r:\n",
    "         r[i] += 1\n",
    "     else:\n",
    "         r[i] = 0\n",
    " return r\n"
   ]
  },
  {
   "cell_type": "markdown",
   "metadata": {},
   "source": [
    "Tell us what this code does. Describe what it does in English as if you would write documentation for this. Justify your answers.\n",
    "Suggest ways to improve this code. Different approaches, code quality etc.\n",
    "Write unit tests for this code."
   ]
  },
  {
   "cell_type": "markdown",
   "metadata": {},
   "source": [
    "# Answer\n",
    "### Code explanation\n",
    "- The function f takes a string s as input \n",
    "- This function returns a dictionary r that counts the occurrences of each character in the string.\n",
    "\n",
    "#### Issue\n",
    "- it will start counting from 0 instead of 1\n",
    "\n",
    "\n",
    "# My Code"
   ]
  },
  {
   "cell_type": "code",
   "execution_count": 6,
   "metadata": {},
   "outputs": [
    {
     "data": {
      "text/plain": [
       "{'H': 1, 'e': 1, 'l': 2, 'o': 1}"
      ]
     },
     "execution_count": 6,
     "metadata": {},
     "output_type": "execute_result"
    }
   ],
   "source": [
    "from collections import Counter\n",
    "\n",
    "def f(s: str) -> dict:\n",
    "    return dict(Counter(s))\n",
    "\n",
    "f('Hello')"
   ]
  },
  {
   "cell_type": "markdown",
   "metadata": {},
   "source": [
    "# Explanation\n",
    "A counter is a container that stores elements as dictionary keys, and their counts are stored as dictionary values.\n",
    "\n",
    "This simplifies the code and leverages built-in functionality for better performance and readability.\n",
    "\n",
    "# Unit Test\n",
    "\n",
    "run unittest_f.py for unit testing.\n",
    "### Explanation of Test\n",
    "\n",
    "- test_empty_string: Checks that an empty string returns an empty dictionary.\n",
    "- test_single_character: Checks that a single character string returns the correct count.\n",
    "- test_repeated_characters: Verifies correct counting of a string with repeated characters.\n",
    "- test_mixed_characters: Ensures the function correctly counts different characters.\n",
    "- test_case_sensitivity: Confirms that the function treats uppercase and lowercase characters as distinct.\n",
    "- test_special_characters: Verifies correct counting of special characters.\n",
    "- test_spaces: Checks the handling of spaces within the string.\n",
    "- test_numerical_characters: Ensures numerical characters are counted correctly."
   ]
  }
 ],
 "metadata": {
  "kernelspec": {
   "display_name": "env",
   "language": "python",
   "name": "python3"
  },
  "language_info": {
   "codemirror_mode": {
    "name": "ipython",
    "version": 3
   },
   "file_extension": ".py",
   "mimetype": "text/x-python",
   "name": "python",
   "nbconvert_exporter": "python",
   "pygments_lexer": "ipython3",
   "version": "3.8.10"
  }
 },
 "nbformat": 4,
 "nbformat_minor": 2
}
